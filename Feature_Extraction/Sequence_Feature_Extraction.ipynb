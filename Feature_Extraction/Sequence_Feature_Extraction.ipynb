{
 "cells": [
  {
   "cell_type": "code",
   "execution_count": 1,
   "id": "ccae2f10",
   "metadata": {},
   "outputs": [],
   "source": [
    "import numpy as np\n",
    "import pandas as pd\n",
    "import math\n",
    "import Bio.PDB\n",
    "from Bio.PDB import PDBParser\n",
    "from Bio.PDB.Polypeptide import is_aa\n",
    "from Bio.PDB.Polypeptide import three_to_one\n",
    "import json\n",
    "from Bio.SeqUtils.ProtParam import ProteinAnalysis\n",
    "from tqdm import tqdm\n",
    "from scipy.stats import entropy"
   ]
  },
  {
   "cell_type": "code",
   "execution_count": 2,
   "id": "d5789ff7",
   "metadata": {},
   "outputs": [],
   "source": [
    "df = pd.read_pickle('df_all_final.pkl')"
   ]
  },
  {
   "cell_type": "code",
   "execution_count": 3,
   "id": "57d134fd",
   "metadata": {},
   "outputs": [
    {
     "data": {
      "text/html": [
       "<div>\n",
       "<style scoped>\n",
       "    .dataframe tbody tr th:only-of-type {\n",
       "        vertical-align: middle;\n",
       "    }\n",
       "\n",
       "    .dataframe tbody tr th {\n",
       "        vertical-align: top;\n",
       "    }\n",
       "\n",
       "    .dataframe thead th {\n",
       "        text-align: right;\n",
       "    }\n",
       "</style>\n",
       "<table border=\"1\" class=\"dataframe\">\n",
       "  <thead>\n",
       "    <tr style=\"text-align: right;\">\n",
       "      <th></th>\n",
       "      <th>Sequence</th>\n",
       "      <th>Symmetry</th>\n",
       "      <th>Qs_state</th>\n",
       "      <th>Qs_type</th>\n",
       "    </tr>\n",
       "  </thead>\n",
       "  <tbody>\n",
       "    <tr>\n",
       "      <th>0</th>\n",
       "      <td>MVLSEGEWQLVLHVWAKVEADVAGHGQDILIRLFKSHPETLEKFDR...</td>\n",
       "      <td>C6</td>\n",
       "      <td>monomer</td>\n",
       "      <td>homomer</td>\n",
       "    </tr>\n",
       "    <tr>\n",
       "      <th>1</th>\n",
       "      <td>MNIFEMLRIDEGLRLKIYKDTEGYYTIGIGHLLTKSPSLNAAAKSE...</td>\n",
       "      <td>C2</td>\n",
       "      <td>monomer</td>\n",
       "      <td>homomer</td>\n",
       "    </tr>\n",
       "    <tr>\n",
       "      <th>2</th>\n",
       "      <td>MVLSEGEWQLVLHVWAKVEADVAGHGQDILIRLFKSHPETLEKFDR...</td>\n",
       "      <td>C6</td>\n",
       "      <td>monomer</td>\n",
       "      <td>homomer</td>\n",
       "    </tr>\n",
       "    <tr>\n",
       "      <th>3</th>\n",
       "      <td>MNIFEMLRIDEGLRLKIYKDTEGYYTIGIGHLLTSLDAAKSELDKA...</td>\n",
       "      <td>C2</td>\n",
       "      <td>monomer</td>\n",
       "      <td>homomer</td>\n",
       "    </tr>\n",
       "    <tr>\n",
       "      <th>4</th>\n",
       "      <td>MVLSEGEWQLVLHVWAKVEADVAGHGQDILIRLFKSHPETLEKFDR...</td>\n",
       "      <td>C6</td>\n",
       "      <td>monomer</td>\n",
       "      <td>homomer</td>\n",
       "    </tr>\n",
       "    <tr>\n",
       "      <th>...</th>\n",
       "      <td>...</td>\n",
       "      <td>...</td>\n",
       "      <td>...</td>\n",
       "      <td>...</td>\n",
       "    </tr>\n",
       "    <tr>\n",
       "      <th>111540</th>\n",
       "      <td>EVQLLESGGGLVQPGGSLRLSCAASGFTFSYYYMQWVRQAPGKGLE...</td>\n",
       "      <td>C2</td>\n",
       "      <td>dodecamer</td>\n",
       "      <td>hetromer</td>\n",
       "    </tr>\n",
       "    <tr>\n",
       "      <th>111541</th>\n",
       "      <td>AVCPGTLNRCEVVMGNLEIVLTGHNADLSFLQWIREVTGYVLVAMN...</td>\n",
       "      <td>C2</td>\n",
       "      <td>dodecamer</td>\n",
       "      <td>hetromer</td>\n",
       "    </tr>\n",
       "    <tr>\n",
       "      <th>111542</th>\n",
       "      <td>EVQLLESGGGLVQPGGSLRLSCAASGFTFSYYYMQWVRQAPGKGLE...</td>\n",
       "      <td>C2</td>\n",
       "      <td>dodecamer</td>\n",
       "      <td>hetromer</td>\n",
       "    </tr>\n",
       "    <tr>\n",
       "      <th>111543</th>\n",
       "      <td>EVQLLESGGGLVQPGGSLRLSCAASGFTFSYYYMQWVRQAPGKGLE...</td>\n",
       "      <td>C2</td>\n",
       "      <td>dodecamer</td>\n",
       "      <td>hetromer</td>\n",
       "    </tr>\n",
       "    <tr>\n",
       "      <th>111544</th>\n",
       "      <td>VCPGTRCEVVMGNLEIVLTGHNADLSFLQWIREVTGYVLVAMNEFS...</td>\n",
       "      <td>C2</td>\n",
       "      <td>dodecamer</td>\n",
       "      <td>hetromer</td>\n",
       "    </tr>\n",
       "  </tbody>\n",
       "</table>\n",
       "<p>111545 rows × 4 columns</p>\n",
       "</div>"
      ],
      "text/plain": [
       "                                                 Sequence Symmetry   Qs_state   \n",
       "0       MVLSEGEWQLVLHVWAKVEADVAGHGQDILIRLFKSHPETLEKFDR...       C6    monomer  \\\n",
       "1       MNIFEMLRIDEGLRLKIYKDTEGYYTIGIGHLLTKSPSLNAAAKSE...       C2    monomer   \n",
       "2       MVLSEGEWQLVLHVWAKVEADVAGHGQDILIRLFKSHPETLEKFDR...       C6    monomer   \n",
       "3       MNIFEMLRIDEGLRLKIYKDTEGYYTIGIGHLLTSLDAAKSELDKA...       C2    monomer   \n",
       "4       MVLSEGEWQLVLHVWAKVEADVAGHGQDILIRLFKSHPETLEKFDR...       C6    monomer   \n",
       "...                                                   ...      ...        ...   \n",
       "111540  EVQLLESGGGLVQPGGSLRLSCAASGFTFSYYYMQWVRQAPGKGLE...       C2  dodecamer   \n",
       "111541  AVCPGTLNRCEVVMGNLEIVLTGHNADLSFLQWIREVTGYVLVAMN...       C2  dodecamer   \n",
       "111542  EVQLLESGGGLVQPGGSLRLSCAASGFTFSYYYMQWVRQAPGKGLE...       C2  dodecamer   \n",
       "111543  EVQLLESGGGLVQPGGSLRLSCAASGFTFSYYYMQWVRQAPGKGLE...       C2  dodecamer   \n",
       "111544  VCPGTRCEVVMGNLEIVLTGHNADLSFLQWIREVTGYVLVAMNEFS...       C2  dodecamer   \n",
       "\n",
       "         Qs_type  \n",
       "0        homomer  \n",
       "1        homomer  \n",
       "2        homomer  \n",
       "3        homomer  \n",
       "4        homomer  \n",
       "...          ...  \n",
       "111540  hetromer  \n",
       "111541  hetromer  \n",
       "111542  hetromer  \n",
       "111543  hetromer  \n",
       "111544  hetromer  \n",
       "\n",
       "[111545 rows x 4 columns]"
      ]
     },
     "execution_count": 3,
     "metadata": {},
     "output_type": "execute_result"
    }
   ],
   "source": [
    "df"
   ]
  },
  {
   "cell_type": "code",
   "execution_count": 4,
   "id": "7de42b5f",
   "metadata": {},
   "outputs": [
    {
     "data": {
      "text/plain": [
       "Qs_state\n",
       "monomer      32420\n",
       "dimer        30619\n",
       "tetramer     19311\n",
       "trimer       10428\n",
       "hexamer       7969\n",
       "octamer       5146\n",
       "dodecamer     2399\n",
       "pentamer      1923\n",
       "decamer       1330\n",
       "Name: count, dtype: int64"
      ]
     },
     "execution_count": 4,
     "metadata": {},
     "output_type": "execute_result"
    }
   ],
   "source": [
    "df['Qs_state'].value_counts()"
   ]
  },
  {
   "cell_type": "code",
   "execution_count": 58,
   "id": "623dc52d",
   "metadata": {},
   "outputs": [],
   "source": [
    "df = df.dropna().reset_index(drop=True)"
   ]
  },
  {
   "cell_type": "markdown",
   "id": "7134d3b6",
   "metadata": {},
   "source": [
    "## Amino Acid Composition"
   ]
  },
  {
   "cell_type": "code",
   "execution_count": 59,
   "id": "06f7ca80",
   "metadata": {},
   "outputs": [],
   "source": [
    "amino_acid_list = ['A', 'R', 'N', 'D', 'C', 'Q', 'E', 'G', 'H', 'I', 'L', 'K', 'M', 'F', 'P', 'S', 'T', 'W', 'Y', 'V']"
   ]
  },
  {
   "cell_type": "code",
   "execution_count": 60,
   "id": "821d4eed",
   "metadata": {},
   "outputs": [],
   "source": [
    "def aa_composition(sequence):\n",
    "    count_aa = []\n",
    "    X = ProteinAnalysis(sequence)\n",
    "    pa_dict = X.count_amino_acids()\n",
    "    for aa in amino_acid_list:\n",
    "        count_aa.append(pa_dict[aa])\n",
    "    return count_aa"
   ]
  },
  {
   "cell_type": "code",
   "execution_count": 61,
   "id": "52706198",
   "metadata": {},
   "outputs": [],
   "source": [
    "result = aa_composition('MQNKOUIPQRSTVWXYZACDEFGHL')"
   ]
  },
  {
   "cell_type": "markdown",
   "id": "f6a41241",
   "metadata": {},
   "source": [
    "## Shannon Entropy "
   ]
  },
  {
   "cell_type": "code",
   "execution_count": 62,
   "id": "8915789d",
   "metadata": {},
   "outputs": [],
   "source": [
    "def compute_entropy(aa_array):\n",
    "    total_aa = np.sum(aa_array)\n",
    "    prob_aa = np.array(aa_array) / total_aa\n",
    "    shannon_entropy = entropy(prob_aa, base=2)\n",
    "    return shannon_entropy"
   ]
  },
  {
   "cell_type": "code",
   "execution_count": 63,
   "id": "b093d451",
   "metadata": {},
   "outputs": [
    {
     "data": {
      "text/plain": [
       "4.297079327540664"
      ]
     },
     "execution_count": 63,
     "metadata": {},
     "output_type": "execute_result"
    }
   ],
   "source": [
    "compute_entropy(result)"
   ]
  },
  {
   "cell_type": "markdown",
   "id": "21b5ac27",
   "metadata": {},
   "source": [
    "## Dipeptide Composition"
   ]
  },
  {
   "cell_type": "code",
   "execution_count": 64,
   "id": "24c25223",
   "metadata": {},
   "outputs": [],
   "source": [
    "dipeptide_list = []\n",
    "\n",
    "for i in range(len(amino_acid_list)):\n",
    "    for j in range(len(amino_acid_list)):\n",
    "        dipeptide_list.append(amino_acid_list[i] + amino_acid_list[j])"
   ]
  },
  {
   "cell_type": "code",
   "execution_count": 65,
   "id": "83ff2988",
   "metadata": {},
   "outputs": [],
   "source": [
    "def dipeptide_composition(sequence, dipeptide_list):\n",
    "    count_dipeptide = []\n",
    "    for x in dipeptide_list:\n",
    "        count_dipeptide.append(sequence.count(x))\n",
    "    return count_dipeptide"
   ]
  },
  {
   "cell_type": "code",
   "execution_count": 66,
   "id": "4ae61f26",
   "metadata": {},
   "outputs": [],
   "source": [
    "#dipeptide_composition('AARAMQNKOUIPQRSTVWXYZACDEFGHL', dipeptide_list)"
   ]
  },
  {
   "cell_type": "markdown",
   "id": "0fa7c93f",
   "metadata": {},
   "source": [
    "## Feature Computation For Dataset"
   ]
  },
  {
   "cell_type": "code",
   "execution_count": 67,
   "id": "1db6117b",
   "metadata": {},
   "outputs": [],
   "source": [
    "sequences = list(df['Sequence'])"
   ]
  },
  {
   "cell_type": "code",
   "execution_count": 68,
   "id": "dfa4aa94",
   "metadata": {},
   "outputs": [],
   "source": [
    "mask = []\n",
    "for seq in sequences:\n",
    "    if '?' not in seq:\n",
    "        mask.append(True)\n",
    "    else:\n",
    "        mask.append(False)"
   ]
  },
  {
   "cell_type": "code",
   "execution_count": 69,
   "id": "bba552b8",
   "metadata": {},
   "outputs": [],
   "source": [
    "aa_feature = []\n",
    "aa_entropy = []\n",
    "aa_dipeptide = []"
   ]
  },
  {
   "cell_type": "code",
   "execution_count": 70,
   "id": "1b4564e9",
   "metadata": {},
   "outputs": [
    {
     "name": "stderr",
     "output_type": "stream",
     "text": [
      "  4%|▍         | 4223/110597 [00:01<00:24, 4404.91it/s]/tmp/ipykernel_10669/4233457476.py:3: RuntimeWarning: invalid value encountered in divide\n",
      "  prob_aa = np.array(aa_array) / total_aa\n",
      "100%|██████████| 110597/110597 [00:25<00:00, 4327.01it/s]\n"
     ]
    }
   ],
   "source": [
    "for seq in tqdm(sequences):\n",
    "    aa_count = aa_composition(seq)\n",
    "    aa_feature.append(aa_count)\n",
    "    aa_entropy.append(compute_entropy(aa_count))\n",
    "    aa_dipeptide.append(dipeptide_composition(seq, dipeptide_list))"
   ]
  },
  {
   "cell_type": "code",
   "execution_count": 71,
   "id": "fff91e03",
   "metadata": {},
   "outputs": [
    {
     "name": "stdout",
     "output_type": "stream",
     "text": [
      "4.2674066018716434 0.0\n"
     ]
    }
   ],
   "source": [
    "print(max(aa_entropy), min(aa_entropy))"
   ]
  },
  {
   "cell_type": "code",
   "execution_count": 72,
   "id": "33795313",
   "metadata": {},
   "outputs": [],
   "source": [
    "df['aa_composition'] = aa_feature\n",
    "df['entropy'] = aa_entropy\n",
    "df['dipeptide_composition'] = aa_dipeptide\n",
    "\n",
    "df = df[mask].reset_index(drop=True)"
   ]
  },
  {
   "cell_type": "code",
   "execution_count": 73,
   "id": "106c8501",
   "metadata": {},
   "outputs": [
    {
     "data": {
      "text/plain": [
       "Sequence                 0\n",
       "Symmetry                 0\n",
       "Qs_state                 0\n",
       "Qs_type                  0\n",
       "aa_composition           0\n",
       "entropy                  0\n",
       "dipeptide_composition    0\n",
       "dtype: int64"
      ]
     },
     "execution_count": 73,
     "metadata": {},
     "output_type": "execute_result"
    }
   ],
   "source": [
    "df.isnull().sum()"
   ]
  },
  {
   "cell_type": "code",
   "execution_count": 74,
   "id": "f5b15671",
   "metadata": {},
   "outputs": [],
   "source": [
    "df.to_pickle('df_all_seqfeature.pkl')"
   ]
  }
 ],
 "metadata": {
  "kernelspec": {
   "display_name": "Python 3 (ipykernel)",
   "language": "python",
   "name": "python3"
  },
  "language_info": {
   "codemirror_mode": {
    "name": "ipython",
    "version": 3
   },
   "file_extension": ".py",
   "mimetype": "text/x-python",
   "name": "python",
   "nbconvert_exporter": "python",
   "pygments_lexer": "ipython3",
   "version": "3.10.6"
  }
 },
 "nbformat": 4,
 "nbformat_minor": 5
}
